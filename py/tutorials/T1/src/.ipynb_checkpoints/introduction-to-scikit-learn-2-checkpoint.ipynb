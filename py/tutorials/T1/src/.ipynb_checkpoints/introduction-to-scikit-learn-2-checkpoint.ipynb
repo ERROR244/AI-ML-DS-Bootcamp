{
 "cells": [
  {
   "cell_type": "markdown",
   "id": "beda2684-8562-4817-a317-9d246c90bcd7",
   "metadata": {},
   "source": [
    "# Introduction to scikit learn 2)\n",
    "\n",
    "This notebook demonstrates some of the most usefull functions of the beautiful Scikit-Learn library.\n",
    "\n",
    "What its going to cover:"
   ]
  },
  {
   "cell_type": "code",
   "execution_count": 6,
   "id": "0c923e03-8303-49c3-a7de-3240dfd0b5a3",
   "metadata": {},
   "outputs": [],
   "source": [
    "# let's listify the contents\n",
    "what_were_covering = [\n",
    "    \"0. An end-to-end Scikit-Learn workflow\",\n",
    "    \"1. Getting the data ready\",\n",
    "    \"2. Choose the right estimator/algorithm for the pronlems\",\n",
    "    \"3. Fit the model/algo and use it to make predictions on our data\",\n",
    "    \"4. Evaluating a model\",\n",
    "    \"5. Improve a model\",\n",
    "    \"6. Save and load a trained model\",\n",
    "    \"7. Putting it all together!\"]"
   ]
  },
  {
   "cell_type": "code",
   "execution_count": 7,
   "id": "86b5dbfa-247e-4f3b-9e9e-d9c7c5306e21",
   "metadata": {},
   "outputs": [
    {
     "data": {
      "text/plain": [
       "['0. An end-to-end Scikit-Learn workflow',\n",
       " '1. Getting the data ready',\n",
       " '2. Choose the right estimator/algorithm for the pronlems',\n",
       " '3. Fit the model/algo and use it to make predictions on our data',\n",
       " '4. Evaluating a model',\n",
       " '5. Improve a model',\n",
       " '6. Save and load a trained model',\n",
       " '7. Putting it all together!']"
      ]
     },
     "execution_count": 7,
     "metadata": {},
     "output_type": "execute_result"
    }
   ],
   "source": [
    "what_were_covering"
   ]
  },
  {
   "cell_type": "code",
   "execution_count": 8,
   "id": "1b546ce2-7ea1-460c-bd09-d128a88b0b77",
   "metadata": {},
   "outputs": [],
   "source": []
  },
  {
   "cell_type": "code",
   "execution_count": null,
   "id": "58c75461-fa0d-47c4-acbb-ff739107950a",
   "metadata": {},
   "outputs": [],
   "source": []
  }
 ],
 "metadata": {
  "kernelspec": {
   "display_name": "Python 3 (ipykernel)",
   "language": "python",
   "name": "python3"
  },
  "language_info": {
   "codemirror_mode": {
    "name": "ipython",
    "version": 3
   },
   "file_extension": ".py",
   "mimetype": "text/x-python",
   "name": "python",
   "nbconvert_exporter": "python",
   "pygments_lexer": "ipython3",
   "version": "3.12.8"
  }
 },
 "nbformat": 4,
 "nbformat_minor": 5
}
